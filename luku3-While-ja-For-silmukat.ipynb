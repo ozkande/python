{
 "cells": [
  {
   "cell_type": "markdown",
   "metadata": {},
   "source": [
    "Pythonilla on kaksi primitiivistä silmukomentoa:\n",
    "\n",
    "- while\n",
    "- for \n",
    "\n",
    "While-silmukan avulla voimme suorittaa joukon lauseita niin kauan kuin ehto on totta."
   ]
  },
  {
   "cell_type": "markdown",
   "metadata": {},
   "source": [
    "Pythonissa `while`-silmukka muodostetaan seuraavanlaisesti:     \n",
    "```python\n",
    "while condition:\n",
    "    command\n",
    "```"
   ]
  },
  {
   "cell_type": "code",
   "execution_count": null,
   "metadata": {},
   "outputs": [],
   "source": [
    "# Tulosta i niin kauan kuin i on alle 6:\n",
    "i = 1\n",
    "while i < 6:\n",
    "  print(i)\n",
    "  i += 1"
   ]
  },
  {
   "cell_type": "markdown",
   "metadata": {},
   "source": [
    "Silmukan suorittaminen päättyy, kun luku\n",
    "tulee liian suureksi eikä jatkamisehto ole\n",
    "enää voimassa"
   ]
  },
  {
   "cell_type": "markdown",
   "metadata": {},
   "source": [
    "### Harjoitus 1\n",
    "Tee ohjelma, jossa on while-silmukka, joka tulostaa numerot 10:stä 1:een, laskevassa järjestyksessä.\n",
    "Vinkki: luo muuttuja (esim. i) jonka arvo on aluksi 10, ja silmukan sisällä tulosta sen arvo, ja pienennä sitä yhdellä. Silmukan ehtona vertaa muuttujaa lukuun 0. (Tuloste)"
   ]
  },
  {
   "cell_type": "code",
   "execution_count": null,
   "metadata": {},
   "outputs": [],
   "source": [
    "i = 10\n",
    "\n",
    "while i>=1:\n",
    "    # your code here"
   ]
  },
  {
   "cell_type": "markdown",
   "metadata": {},
   "source": [
    "### Harjoitus 2\n",
    "\n",
    "Luo Blackjackia  peli. Ohjelma laskee käyttäjän kokonaispisteitä.\n",
    "while-silmukan sisällä ohjelma kysyy kuinka paljon lisää pisteitä käyttäjä saa. Silmukka loppuu, jos käyttäjän kokonaispistemäärä on isompi tai yhtäsuuri kuin 21.\n",
    "Lopuksi ohjelma tulostaa käyttäjän kokonaispistemäärän. "
   ]
  },
  {
   "cell_type": "code",
   "execution_count": null,
   "metadata": {},
   "outputs": [],
   "source": [
    "count = 0\n",
    "while count<=21:\n",
    "    number = int(input('Pls enter a number: '))\n",
    "    # Your code here\n",
    "print(count)"
   ]
  },
  {
   "cell_type": "markdown",
   "metadata": {},
   "source": [
    "# For-silmukka"
   ]
  },
  {
   "cell_type": "markdown",
   "metadata": {},
   "source": [
    "for-silmukan avulla voidaan toistaa koodia, jos\n",
    "toistojen määrä tiedetään heti silmukan alussa\n",
    "- for-silmukkaan kuuluu aina muuttuja, jonka arvo\n",
    "päivittyy automaattisesti (edellisessä esimerkissä tätä muuttujaa ei vain tarvittu mihinkään)\n",
    "-  for-silmukan avulla voidaan käydä läpi myös luvut\n",
    "ennalta määritellyltä väliltä\n",
    "-  Toistojen määrä tai lukuväli voi olla kiinteästi\n",
    "koodissa tai arvot voidaan lukea muuttujista"
   ]
  },
  {
   "cell_type": "code",
   "execution_count": null,
   "metadata": {},
   "outputs": [],
   "source": [
    "for luku in range(0,5):\n",
    " print(\"Hei maailma!\")"
   ]
  },
  {
   "cell_type": "markdown",
   "metadata": {},
   "source": [
    "`for`-silmukan muodostaminen tapahtuu seuraavanlaisesti:\n",
    "```python\n",
    "for element in collection:\n",
    "    command\n",
    "```\n",
    "\n",
    "Käydään läpi for-silmukan luonti. for-silmukan aloittava rivi koostuu neljästä kohdasta:\n",
    "\n",
    "Käydään läpi `for`-silmukan luonti. `for`-silmukan aloittava rivi koostuu neljästä kohdasta:\n",
    "- 1) `for` - Tämä Pythoniin sisäänrakennettu sana aloittaa silmukan\n",
    "- 2) `element` - Vapaasti nimettävissä oleva muuttuja, joka saa arvoksi `collection`:in arvoja.\n",
    "- 3) `in`- Tämä Pythoniin sisäänrakennettu sana erottaa muuttujan alkiokokoelmasta.\n",
    "- 4) `collection`- Jokin alkiokokoelma, tai muuttuja joka sisältää alkiokokoelman."
   ]
  },
  {
   "cell_type": "code",
   "execution_count": null,
   "metadata": {},
   "outputs": [],
   "source": [
    "fruits = [\"apple\", \"banana\", \"cherry\"]\n",
    "for x in fruits:\n",
    "  print(x)"
   ]
  },
  {
   "cell_type": "markdown",
   "metadata": {},
   "source": [
    "### Harjoitus 3\n",
    "Tee ohjelma joka tulostaa parittomat luvut 1:stä 21:een for-silmukan ja range():n avulla. (Tuloste)"
   ]
  },
  {
   "cell_type": "code",
   "execution_count": null,
   "metadata": {},
   "outputs": [],
   "source": [
    "# your code here"
   ]
  },
  {
   "cell_type": "code",
   "execution_count": null,
   "metadata": {},
   "outputs": [],
   "source": []
  }
 ],
 "metadata": {
  "kernelspec": {
   "display_name": "Python 3",
   "language": "python",
   "name": "python3"
  },
  "language_info": {
   "codemirror_mode": {
    "name": "ipython",
    "version": 3
   },
   "file_extension": ".py",
   "mimetype": "text/x-python",
   "name": "python",
   "nbconvert_exporter": "python",
   "pygments_lexer": "ipython3",
   "version": "3.7.1"
  }
 },
 "nbformat": 4,
 "nbformat_minor": 2
}
