{
 "cells": [
  {
   "cell_type": "markdown",
   "metadata": {},
   "source": [
    "### Vertailuoperaattorit\n",
    "\n",
    "Python tukee matematiikan tavanomaisia loogisia ehtoja:\n",
    "\n",
    "+ Vastaa: a == b\n",
    "+ Ei yhtä suuri: a! = b\n",
    "+ Alle: a <b\n",
    "+ Vähemmän tai yhtä suuri kuin: a <= b\n",
    "+ Suurempi kuin: a> b\n",
    "+ Suurempi tai yhtä suuri kuin: a> = b\n",
    "\n",
    "Vertausoperaatiot palauttavat `True`, jos vertailu on tosi ja pitää paikkansa, tai `False`, jos näin ei ole."
   ]
  },
  {
   "cell_type": "code",
   "execution_count": null,
   "metadata": {},
   "outputs": [],
   "source": [
    "10 < 15"
   ]
  },
  {
   "cell_type": "code",
   "execution_count": null,
   "metadata": {},
   "outputs": [],
   "source": [
    "10 > 15"
   ]
  },
  {
   "cell_type": "markdown",
   "metadata": {},
   "source": [
    "### Harjoitus 1\n",
    "Vertaile onko 5 potenssiin 2 isompi kuin 2 potenssiin 4? (Totuusarvo)"
   ]
  },
  {
   "cell_type": "code",
   "execution_count": null,
   "metadata": {},
   "outputs": [],
   "source": [
    "# your code here"
   ]
  },
  {
   "cell_type": "code",
   "execution_count": null,
   "metadata": {},
   "outputs": [],
   "source": [
    "'Terve' == 'terve'"
   ]
  },
  {
   "cell_type": "code",
   "execution_count": null,
   "metadata": {},
   "outputs": [],
   "source": [
    "6 != 11"
   ]
  },
  {
   "cell_type": "markdown",
   "metadata": {},
   "source": [
    "## If-lauset\n",
    "Näitä ehtoja voidaan käyttää monin tavoin, yleisimmin \"if-lauseissa\" ja silmukoissa.\n",
    "\n",
    "\"Jos lause\" kirjoitetaan if-avainsanalla."
   ]
  },
  {
   "cell_type": "code",
   "execution_count": null,
   "metadata": {},
   "outputs": [],
   "source": [
    "a = 50\n",
    "b = 75\n",
    "if b > a:\n",
    "  print(\"b on suurempi kuin a\")"
   ]
  },
  {
   "cell_type": "markdown",
   "metadata": {},
   "source": [
    "Python luottaa sisennykseen (välilyöntiä rivin alussa) määritelläksesi laajuuden koodissa. Muut ohjelmointikielet käyttävät usein kiharasulkeja tähän tarkoitukseen."
   ]
  },
  {
   "cell_type": "markdown",
   "metadata": {},
   "source": [
    "## Elif ja Else\n",
    "Elif-avainsana on tapa sanoa \"Jos aiemmat ehdot eivät olleet totta, kokeile tätä ehtoa.\n",
    "Else-avainsana tarttuu kaikkeen, mikä ei ole aiempien ehtojen mukainen.\n",
    "\n",
    "Ehtolauseessa voi olla (tai olla olematta)\n",
    "rajaton määrä elif-osia ja yksi else-osa"
   ]
  },
  {
   "cell_type": "code",
   "execution_count": null,
   "metadata": {},
   "outputs": [],
   "source": [
    "luku=30\n",
    "if luku > 0:\n",
    " print(\"Luku on nollaa suurempi\")\n",
    "elif luku < 0:\n",
    " print(\"Luku on nollaa pienempi\")\n",
    "else:\n",
    " print(\"Luku on nolla\")"
   ]
  },
  {
   "cell_type": "markdown",
   "metadata": {},
   "source": [
    "+ Ehdon voi kääntää sanalla `not`\n",
    "+ Ehtoja voi yhdistellä sanoilla `and` ja `or`"
   ]
  },
  {
   "cell_type": "code",
   "execution_count": null,
   "metadata": {},
   "outputs": [],
   "source": [
    "luku=6\n",
    "if luku > 2 and luku <= 8: \n",
    "    print('Luku on 2 ja 8 välissä.')\n",
    "          "
   ]
  },
  {
   "cell_type": "code",
   "execution_count": null,
   "metadata": {},
   "outputs": [],
   "source": [
    "a = 200\n",
    "b = 33\n",
    "c = 500\n",
    "if a > b or a > c:\n",
    "  print(\"Ainakin yksi ehdoista on totta!\")"
   ]
  },
  {
   "cell_type": "markdown",
   "metadata": {},
   "source": [
    "### Harjoitus 2\n",
    "Pyydä käyttäjältä luku ja muuta se kokonaisluvuksi. Tämän jälkeen vertaile onko käyttäjän antama luku yhtäsuuri kuin luku `100`."
   ]
  },
  {
   "cell_type": "code",
   "execution_count": null,
   "metadata": {},
   "outputs": [],
   "source": [
    "# your code here"
   ]
  },
  {
   "cell_type": "markdown",
   "metadata": {},
   "source": [
    "### Harjoitus 3\n",
    "alla oleva koodi ei toimi oikein. Yritä korjata se."
   ]
  },
  {
   "cell_type": "code",
   "execution_count": null,
   "metadata": {},
   "outputs": [],
   "source": [
    "print('Tämä ohjelma tarkistaa oletko alaikäinen.')\n",
    "age = input('Kuinka vanha olet?\\n')) \n",
    "underaged = age > 18 \n",
    "print('Olet alaikäinen:',underaged)"
   ]
  },
  {
   "cell_type": "markdown",
   "metadata": {},
   "source": [
    "### Harjoitus 4\n",
    "Tee ohjelma, joka laskee käyttäjän ikä. Korjaa alla oleva koodi."
   ]
  },
  {
   "cell_type": "code",
   "execution_count": null,
   "metadata": {},
   "outputs": [],
   "source": [
    "this_year = 2020\n",
    "birth_year = int(input('Your birth year?\\n')) \n",
    "\n",
    "age = ???\n",
    "\n",
    "print(age)"
   ]
  },
  {
   "cell_type": "markdown",
   "metadata": {},
   "source": [
    "### Harjoitus 5\n",
    "Tee ohjelma, joka kysyy käyttäjältä kaksi lukua, jotka tallennetaan erillisiin muuttujiin. Luvuista verrataan onko ensimmäisenä annettu isompi kuin toisena. Tulosta teksti \"Ensimmäinen numero on suurempi kuin toinen:\" ja vertailun avulla joko `True` tai `False`. (Tuloste)"
   ]
  },
  {
   "cell_type": "code",
   "execution_count": null,
   "metadata": {},
   "outputs": [],
   "source": [
    "number7 = int(input('Number 1\\n'))\n",
    "number8 = int(input('Number 2\\n'))\n",
    "\n",
    "if ???:\n",
    "    print(???)\n",
    "else:\n",
    "    print(???)"
   ]
  },
  {
   "cell_type": "markdown",
   "metadata": {},
   "source": [
    "### Harjoitus 5\n",
    "\n",
    "Hintalaskuri\n",
    "\n",
    "Eräässä teatterissa on neljän eri hintaluokan lippuja:\n",
    "\n",
    "- Lastenlippu (alle 15v): 5 e\n",
    "- Nuorisolippu (15-24v): 10 e\n",
    "- Aikuisten lippu (25-65v): 20 e\n",
    "- Eläkeläislipput (yli 65v): 10 e"
   ]
  },
  {
   "cell_type": "code",
   "execution_count": null,
   "metadata": {},
   "outputs": [],
   "source": [
    "print('Tervetuloa!')\n",
    "age=int(input('Sinun ikä:\\n'))\n",
    "\n",
    "# your code here"
   ]
  }
 ],
 "metadata": {
  "kernelspec": {
   "display_name": "Python 3",
   "language": "python",
   "name": "python3"
  },
  "language_info": {
   "codemirror_mode": {
    "name": "ipython",
    "version": 3
   },
   "file_extension": ".py",
   "mimetype": "text/x-python",
   "name": "python",
   "nbconvert_exporter": "python",
   "pygments_lexer": "ipython3",
   "version": "3.7.1"
  }
 },
 "nbformat": 4,
 "nbformat_minor": 2
}
