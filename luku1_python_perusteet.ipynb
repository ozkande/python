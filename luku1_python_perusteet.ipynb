{
 "cells": [
  {
   "cell_type": "markdown",
   "metadata": {
    "collapsed": true
   },
   "source": [
    "# Jupyter Notebook"
   ]
  },
  {
   "cell_type": "markdown",
   "metadata": {},
   "source": [
    "Jupyter on IDE-ohjelma, jonka avulla voi luoda interaktiivisia sivuja, jotka sisältävät ajettavaa koodia. Tämän takia opiskelijan ei tarvitse asentaa omalle koneelleen omaa ohjelmointiympäristöä, vaan koodin kanssa pääsee työskentelemään heti selaimen avulla.\n",
    "\n",
    "Jupyterissä koodikenttiä pystyy vapaasti muokkaamaan, ja koodikentän ajaa painamalla `shift + enter` tai `Run` nappi."
   ]
  },
  {
   "cell_type": "markdown",
   "metadata": {},
   "source": [
    "### Tulostuskomento\n"
   ]
  },
  {
   "cell_type": "code",
   "execution_count": null,
   "metadata": {},
   "outputs": [],
   "source": [
    "print(\"Ohjelmointi on kiinnostavaa!\")"
   ]
  },
  {
   "cell_type": "markdown",
   "metadata": {},
   "source": [
    "### Sisennys"
   ]
  },
  {
   "cell_type": "markdown",
   "metadata": {},
   "source": [
    "Sisennys tarkoittaa välilyöntejä koodirivin alussa.\n",
    "\n",
    "Kun muilla ohjelmointikieleillä koodin sisennys on tarkoitettu vain luettavuutta varten, Pythonin sisennys on erittäin tärkeä.\n",
    "\n",
    "Python käyttää sisennystä osoittaakseen koodilohkon."
   ]
  },
  {
   "cell_type": "markdown",
   "metadata": {},
   "source": [
    "### Kommentointi"
   ]
  },
  {
   "cell_type": "markdown",
   "metadata": {},
   "source": [
    "Kommentteja voidaan käyttää Python-koodin selittämiseen.\n",
    "\n",
    "Kommentteja voidaan käyttää koodin luettavuuden parantamiseksi.\n",
    "\n",
    "Kommentteja voidaan käyttää estämään suorittaminen koodin testaamisessa.\n"
   ]
  },
  {
   "cell_type": "code",
   "execution_count": null,
   "metadata": {},
   "outputs": [],
   "source": [
    "# Tämä on kommenttirivi\n",
    "print(\"Hello, World!\")"
   ]
  },
  {
   "cell_type": "markdown",
   "metadata": {},
   "source": [
    "## Laskutoimitukset"
   ]
  },
  {
   "cell_type": "markdown",
   "metadata": {},
   "source": [
    "Käytössä on tavalliset laskutoimitukset:\n",
    "\n",
    "- yhteenlasku +\n",
    "- vähennyslasku -\n",
    "- kertolasku * \n",
    "- jakolasku / \n",
    "- katkaiseva jakolasku // \n",
    "- potenssiin korotus ** \n",
    "- jakojäännös % \n",
    "\n",
    "Ajamalla alla olevan koodin laskutoimituksen vastaus tulostuu koodikentän alapuolelle."
   ]
  },
  {
   "cell_type": "code",
   "execution_count": null,
   "metadata": {},
   "outputs": [],
   "source": [
    "3+4"
   ]
  },
  {
   "cell_type": "code",
   "execution_count": null,
   "metadata": {},
   "outputs": [],
   "source": [
    "10-1"
   ]
  },
  {
   "cell_type": "code",
   "execution_count": null,
   "metadata": {},
   "outputs": [],
   "source": [
    "6*2"
   ]
  },
  {
   "cell_type": "code",
   "execution_count": null,
   "metadata": {},
   "outputs": [],
   "source": [
    "16/5"
   ]
  },
  {
   "cell_type": "code",
   "execution_count": null,
   "metadata": {},
   "outputs": [],
   "source": [
    "4**2"
   ]
  },
  {
   "cell_type": "code",
   "execution_count": null,
   "metadata": {},
   "outputs": [],
   "source": [
    "(4+1)*2"
   ]
  },
  {
   "cell_type": "markdown",
   "metadata": {},
   "source": [
    "## Harjoitus 1\n",
    "\n",
    "Laske mitä on 5 potenssiin 3? (Numero)"
   ]
  },
  {
   "cell_type": "code",
   "execution_count": null,
   "metadata": {},
   "outputs": [],
   "source": [
    "# your code here"
   ]
  },
  {
   "cell_type": "markdown",
   "metadata": {},
   "source": [
    "## Harjoitus 2\n",
    "Laske mikä on luvun 17 jakojäännös, kun se jaetaan luvulla 5."
   ]
  },
  {
   "cell_type": "code",
   "execution_count": null,
   "metadata": {},
   "outputs": [],
   "source": [
    "# your code here"
   ]
  },
  {
   "cell_type": "markdown",
   "metadata": {},
   "source": [
    "## Harjoitus 3\n",
    "Laske kuinka monta kertaa luku 5 menee lukuun 25."
   ]
  },
  {
   "cell_type": "code",
   "execution_count": null,
   "metadata": {},
   "outputs": [],
   "source": [
    "# your code here"
   ]
  },
  {
   "cell_type": "markdown",
   "metadata": {},
   "source": [
    "### Muuttujat\n",
    "\n",
    "Ohjelmoinnin  on muuttujat, eli eräänlaiset \"säiliöt\", joihin voidaan tallentaa tietoa myöhempää käyttöä varten. \n",
    "\n",
    "Muuttujat ovat säilytystiloja data-arvojen tallentamiseksi.\n",
    "\n",
    "Toisin kuin muut ohjelmointikielet, Pythonilla ei ole komentoa muuttujan ilmoittamiseksi.\n",
    "\n",
    "Muuttuja luodaan heti, kun annat sille ensimmäisen arvon."
   ]
  },
  {
   "cell_type": "code",
   "execution_count": null,
   "metadata": {},
   "outputs": [],
   "source": [
    "numero = 6\n",
    "nimi = \"Jukka\"\n",
    "print(numero)\n",
    "print(nimi)"
   ]
  },
  {
   "cell_type": "markdown",
   "metadata": {},
   "source": [
    "Muuttujia ei tarvitse ilmoittaa millään tietyllä tyypillä, ja ne voivat jopa muuttaa tyyppiä sen jälkeen, kun ne on asetettu."
   ]
  },
  {
   "cell_type": "code",
   "execution_count": null,
   "metadata": {},
   "outputs": [],
   "source": [
    "numero = 6 # tämä on numero, eli int\n",
    "nimi = \"Jukka\" # tämä on merkkijono, eli string (str)"
   ]
  },
  {
   "cell_type": "code",
   "execution_count": null,
   "metadata": {},
   "outputs": [],
   "source": [
    "nimi = \"Jukka\"\n",
    "# on sama asia kuin\n",
    "nimi = 'Jukka'"
   ]
  },
  {
   "cell_type": "markdown",
   "metadata": {},
   "source": [
    "Muuttujia voi myös käyttää uusien muuttujien määrittelyssä:"
   ]
  },
  {
   "cell_type": "code",
   "execution_count": null,
   "metadata": {},
   "outputs": [],
   "source": [
    "numero1 = 3\n",
    "numero2 = numero1 + 5\n",
    "numero2"
   ]
  },
  {
   "cell_type": "markdown",
   "metadata": {},
   "source": [
    "### Muuttujien nimeämissäännöt\n",
    "Muuttujan nimen on alkaa kirjaimella tai alaviivalla\n",
    "Muuttujan nimi ei voi alkaa numerolla\n",
    "Muuttujan nimi voi sisältää vain aakkosnumeerisia merkkejä ja alaviivoja (A-z, 0-9 ja _)\n",
    "Muuttujien nimet ovat kirjainkohtaisia (ika, Ika ja IKA ovat kolme eri muuttujaa)"
   ]
  },
  {
   "cell_type": "markdown",
   "metadata": {},
   "source": [
    "### Esimerkki ohjelma:"
   ]
  },
  {
   "cell_type": "code",
   "execution_count": null,
   "metadata": {},
   "outputs": [],
   "source": [
    "euros = 90\n",
    "dollars = euros * 1.11\n",
    "dollars"
   ]
  },
  {
   "cell_type": "markdown",
   "metadata": {},
   "source": [
    "### Harjoitus 4\n",
    "Sijoita luku3 muuttujaan number  10 ja kutsu muuttujaa. (Numero)"
   ]
  },
  {
   "cell_type": "code",
   "execution_count": null,
   "metadata": {},
   "outputs": [],
   "source": [
    "# your code here"
   ]
  },
  {
   "cell_type": "markdown",
   "metadata": {},
   "source": [
    "### Harjoitus 5\n",
    "Sijoita luku4 johonkin muuttujaan, ja sijoita tämän jälkeen uuteen muuttujaan edellinen muuttuja eli luku2 kerrottuna kolmella. Kutsu uutta muuttujaa. (Numero)"
   ]
  },
  {
   "cell_type": "code",
   "execution_count": null,
   "metadata": {},
   "outputs": [],
   "source": [
    "# your code here"
   ]
  },
  {
   "cell_type": "markdown",
   "metadata": {},
   "source": [
    "###  Merkkijonot (Strings)\n",
    "\n",
    "Pythonin merkkijonot ympäröivät joko yksittäiset lainausmerkit tai kaksinkertaiset lainausmerkit.\n",
    "\n",
    "\"hei\" on sama kuin \"hei\"."
   ]
  },
  {
   "cell_type": "code",
   "execution_count": null,
   "metadata": {},
   "outputs": [],
   "source": [
    "etunimi = \"Aleksis \"\n",
    "sukunimi = \"Kivi\"\n",
    "koko_nimi = etunimi + sukunimi\n",
    "koko_nimi"
   ]
  },
  {
   "cell_type": "code",
   "execution_count": null,
   "metadata": {},
   "outputs": [],
   "source": [
    "print( \"Hänen nimi on \",koko_nimi)"
   ]
  },
  {
   "cell_type": "markdown",
   "metadata": {},
   "source": [
    "### Merkkijonon pituus\n",
    "Jos haluat saada merkkijonon pituuden, käytä len() -toimintoa."
   ]
  },
  {
   "cell_type": "code",
   "execution_count": null,
   "metadata": {},
   "outputs": [],
   "source": [
    "len(koko_nimi)"
   ]
  },
  {
   "cell_type": "markdown",
   "metadata": {},
   "source": [
    "### Harjoitus 6\n",
    "Tallenna muuttujaan oma nimesi ja tulosta teksti \"Minun nimeni on X\", johon X:n paikalle tulee muuttujan avulla oma nimesi. (Tuloste)"
   ]
  },
  {
   "cell_type": "code",
   "execution_count": null,
   "metadata": {},
   "outputs": [],
   "source": [
    "# your code here"
   ]
  },
  {
   "cell_type": "markdown",
   "metadata": {},
   "source": [
    "### Harjoitus 7\n",
    "\n",
    "Tallenna yhteen muuttujaan oma nimesi, sekä toiseen muuttujaan ikäsi. \n",
    "Tämän jälkeen tulosta teksti \"Nimeni on X, ja olen Y vuotta vanha.\" "
   ]
  },
  {
   "cell_type": "code",
   "execution_count": null,
   "metadata": {},
   "outputs": [],
   "source": [
    "my_name = # your code here\n",
    "# your code here\n",
    "# your code here"
   ]
  },
  {
   "cell_type": "markdown",
   "metadata": {},
   "source": [
    "### Syötteiden vastaanotto\n",
    "\n",
    "\n",
    "Python sallii käyttäjän syötteen.\n",
    "\n",
    "Tämä tarkoittaa, että pystymme pyytämään käyttäjää syöttämään tietoja.\n",
    "\n",
    "Menetelmä on hieman erilainen Python 3.6: ssa kuin Python 2.7.\n",
    "\n",
    "Python 3.6 käyttää input () -kommento.\n",
    "\n",
    "Vastaus palautetaan aina merkkijonona, vaikka käyttäjä antaisikin luvun"
   ]
  },
  {
   "cell_type": "code",
   "execution_count": null,
   "metadata": {},
   "outputs": [],
   "source": [
    "nimi = input(\"Kerro nimesi: \")\n",
    "print(\"Hei\", nimi)"
   ]
  },
  {
   "cell_type": "markdown",
   "metadata": {},
   "source": [
    "### Harjoitus 8\n",
    "\n",
    "Pyydä käyttäjältä hänen ikänsä ja tallenna se erilliseen muuttujaan. Sen jälkeen tulosta teksti \"Sinun ikäsi on X.\", jossa X on muuttuja, johon on tallennettu käyttäjän antama syöte. (Tuloste)"
   ]
  },
  {
   "cell_type": "code",
   "execution_count": null,
   "metadata": {},
   "outputs": [],
   "source": [
    "# your code here"
   ]
  },
  {
   "cell_type": "markdown",
   "metadata": {},
   "source": [
    "### Tietotyypit\n",
    "\n",
    "Yleisimmät tietotyypit:\n",
    "\n",
    "+ merkkijonot (string)\n",
    "+ kokonaisluvut (integer)\n",
    "+ desimaaliluvut (floating point number)\n",
    "+ totuusarvot (boolean)"
   ]
  },
  {
   "cell_type": "markdown",
   "metadata": {},
   "source": [
    "### Tietotyypin hakeminen\n",
    "Voit saada minkä tahansa objektin tietotyypin käyttämällä type():"
   ]
  },
  {
   "cell_type": "code",
   "execution_count": null,
   "metadata": {},
   "outputs": [],
   "source": [
    "my_number = 6\n",
    "type(my_number)"
   ]
  },
  {
   "cell_type": "code",
   "execution_count": null,
   "metadata": {},
   "outputs": [],
   "source": [
    "is_defined = True\n",
    "type(is_defined)"
   ]
  },
  {
   "cell_type": "code",
   "execution_count": null,
   "metadata": {},
   "outputs": [],
   "source": [
    "my_float_number = 6.2\n",
    "type(my_float_number)"
   ]
  },
  {
   "cell_type": "code",
   "execution_count": null,
   "metadata": {},
   "outputs": [],
   "source": [
    "my_integer_number = 5\n",
    "type(my_integer_number)"
   ]
  },
  {
   "cell_type": "code",
   "execution_count": null,
   "metadata": {},
   "outputs": [],
   "source": [
    "type(True)"
   ]
  },
  {
   "cell_type": "markdown",
   "metadata": {},
   "source": [
    "### Tyyppimuunnokset"
   ]
  },
  {
   "cell_type": "code",
   "execution_count": null,
   "metadata": {},
   "outputs": [],
   "source": [
    "int(x) yrittää muuttaa x:n kokonaisluvuksi\n",
    "float(x) yrittää muuttaa x:n desimaaliluvuksi\n",
    "str(x) muuttaa x:n merkkijonoksi\n",
    "bool(x) muuttaa x:n totuusarvoksi"
   ]
  },
  {
   "cell_type": "code",
   "execution_count": null,
   "metadata": {},
   "outputs": [],
   "source": [
    "luku = input(\"Anna luku, kerron sen kahdella\")\n",
    "tulos = int(luku) * 2\n",
    "print(\"Luku kaksinkertaisena on\", tulos)"
   ]
  },
  {
   "cell_type": "code",
   "execution_count": null,
   "metadata": {},
   "outputs": [],
   "source": [
    "# Virhetilanne: Valueerror eli merkkijonosta ei pysty tekemään kokonaisluvun.\n",
    "int(\"Taitotalo\")"
   ]
  },
  {
   "cell_type": "code",
   "execution_count": null,
   "metadata": {},
   "outputs": [],
   "source": [
    "euros = float(input('How many euros do you have?: '))\n",
    "dollars = euros * 1.11\n",
    "print('Sinulla on',dollars,'dollaria.')"
   ]
  },
  {
   "cell_type": "code",
   "execution_count": null,
   "metadata": {},
   "outputs": [],
   "source": [
    "float('4.2')"
   ]
  },
  {
   "cell_type": "code",
   "execution_count": null,
   "metadata": {},
   "outputs": [],
   "source": [
    "int('4.2') #Virhetilanne syntyy, ei kokonaisluku"
   ]
  },
  {
   "cell_type": "markdown",
   "metadata": {},
   "source": [
    "### Harjoitus 9\n",
    "Pyydä käyttäjältä hänen pituutensa käyttäen `input()`-komentoa. Tallenna annettu syöte muuttujaan desimaalilukuna. Tulosta lopuksi käyttäjälle hänen pituutensa. (Tuloste)"
   ]
  },
  {
   "cell_type": "code",
   "execution_count": null,
   "metadata": {},
   "outputs": [],
   "source": [
    "# your code here"
   ]
  },
  {
   "cell_type": "markdown",
   "metadata": {},
   "source": [
    "### Vakiot\n",
    "Vakio on ohjelmassa kiinteästi määritelty arvo, jolle\n",
    "on annettu sitä kuvaava nimi eikä sen arvoa muuteta\n",
    "+ Vakiot tekevät koodista helpommin ymmärrettävää\n",
    "+  Sen sijaan, että kirjoittaisi saman lukuarvon useaan\n",
    "kohtaan koodia, voi käyttää vakion nimeä\n",
    "+ Vakioiden nimet kirjoitetaan isoilla kirjaimilla"
   ]
  },
  {
   "cell_type": "code",
   "execution_count": null,
   "metadata": {},
   "outputs": [],
   "source": [
    "KILOHINTA = 5.4\n",
    "PAKKAUSKULUT = 3.2\n",
    "paino = float(input(\"Anna paino kilogrammoina:\\n\"))\n",
    "print(\"Tuote maksaa\", paino * KILOHINTA + PAKKAUSKULUT, \"euroa.\")"
   ]
  }
 ],
 "metadata": {
  "kernelspec": {
   "display_name": "Python 3",
   "language": "python",
   "name": "python3"
  },
  "language_info": {
   "codemirror_mode": {
    "name": "ipython",
    "version": 3
   },
   "file_extension": ".py",
   "mimetype": "text/x-python",
   "name": "python",
   "nbconvert_exporter": "python",
   "pygments_lexer": "ipython3",
   "version": "3.7.1"
  }
 },
 "nbformat": 4,
 "nbformat_minor": 2
}
