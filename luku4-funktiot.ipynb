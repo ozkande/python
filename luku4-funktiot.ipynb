{
 "cells": [
  {
   "cell_type": "markdown",
   "metadata": {},
   "source": [
    "## Funktiot\n",
    "\n",
    "Funktio on koodilohko, joka toimii vain, kun sitä kutsutaan.\n",
    "\n",
    "Voit välittää parametrien mukaisia tietoja toimintoon.\n",
    "\n",
    "Funktio voi palauttaa tietoja seurauksena.\n",
    "\n",
    "Pythonissa funktio määritetään `def`-avainsanalla:"
   ]
  },
  {
   "cell_type": "code",
   "execution_count": null,
   "metadata": {},
   "outputs": [],
   "source": [
    "def my_function():\n",
    "  print(\"Terve funktiosta\")"
   ]
  },
  {
   "cell_type": "code",
   "execution_count": null,
   "metadata": {},
   "outputs": [],
   "source": [
    "def kysy_nimi():\n",
    " vastaus = input(\"Kuka olet?\\n\")\n",
    " return vastaus\n",
    "nimi = kysy_nimi()"
   ]
  },
  {
   "cell_type": "code",
   "execution_count": null,
   "metadata": {},
   "outputs": [],
   "source": [
    "def laske_tulo(luku1, luku2):\n",
    "    return luku1 * luku2\n",
    "tulo = laske_tulo(3, 5)"
   ]
  },
  {
   "cell_type": "markdown",
   "metadata": {},
   "source": [
    "## Funktion kutsuminen\n",
    "Kutsu funktion käyttämällä funktion nimeä ja sulkumerkkejä:"
   ]
  },
  {
   "cell_type": "code",
   "execution_count": null,
   "metadata": {},
   "outputs": [],
   "source": [
    "def my_function(fname):\n",
    "  print(fname + \" Helsingistä\")\n",
    "\n",
    "my_function(\"Emil\")\n",
    "my_function(\"Tobias\")\n",
    "my_function(\"Linus\")"
   ]
  },
  {
   "cell_type": "markdown",
   "metadata": {},
   "source": [
    "Funktiota voi kutsua ohjelmasta useita\n",
    "kertoja eri parametreilla\n",
    "-  Jos funktio tarvitsee tietoja muualta\n",
    "ohjelmasta, arvot pitää yleensä välittää\n",
    "parametreina funktion sisälle\n",
    "- Funktioiden sisällä voi olla rajaton määrä\n",
    "normaaleita koodirivejä ja uusia\n",
    "funktiokutsuja"
   ]
  },
  {
   "cell_type": "markdown",
   "metadata": {},
   "source": [
    "## Harjoitus 1\n",
    "Luo funktio, jonka nimi on calculator(). Funktio laskee laskun 3 + 3 ja tallentaa sen tuloksen muuttujaan a. Tämän jälkeen ohjelma tulostaa muuttujan a. Kutsu lopuksi funktiota calculator() funktion ulkopuolella. (Tuloste)"
   ]
  },
  {
   "cell_type": "code",
   "execution_count": null,
   "metadata": {},
   "outputs": [],
   "source": [
    "#  your code here"
   ]
  },
  {
   "cell_type": "code",
   "execution_count": null,
   "metadata": {},
   "outputs": [],
   "source": [
    "def hello(name):\n",
    "    print('Hello',name)\n",
    "\n",
    "first_name = 'Lisa'\n",
    "hello(first_name)"
   ]
  },
  {
   "cell_type": "markdown",
   "metadata": {},
   "source": [
    "## HARJOITUS 2\n",
    "Luo funktio, joka saa parametrinä yhden lukuarvon. Funktio laskee luvun neliön ja tulostaa sen. Funktion ulkopuolella pyydä käyttäjältä lukua input() komennolla, tallenna se kokonaisluvuksi ja kutsu sitten funktiota. (Tuloste)"
   ]
  },
  {
   "cell_type": "code",
   "execution_count": null,
   "metadata": {},
   "outputs": [],
   "source": [
    "# your code here"
   ]
  },
  {
   "cell_type": "code",
   "execution_count": null,
   "metadata": {},
   "outputs": [],
   "source": []
  }
 ],
 "metadata": {
  "kernelspec": {
   "display_name": "Python 3",
   "language": "python",
   "name": "python3"
  },
  "language_info": {
   "codemirror_mode": {
    "name": "ipython",
    "version": 3
   },
   "file_extension": ".py",
   "mimetype": "text/x-python",
   "name": "python",
   "nbconvert_exporter": "python",
   "pygments_lexer": "ipython3",
   "version": "3.7.1"
  }
 },
 "nbformat": 4,
 "nbformat_minor": 2
}
